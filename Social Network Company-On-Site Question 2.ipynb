{
 "cells": [
  {
   "cell_type": "markdown",
   "metadata": {},
   "source": [
    "# Mine"
   ]
  },
  {
   "cell_type": "code",
   "execution_count": 1,
   "metadata": {},
   "outputs": [],
   "source": [
    "def unique(arr):\n",
    "    \n",
    "    known = {}\n",
    "    \n",
    "    for i in range(len(arr)):\n",
    "        \n",
    "        if arr[i] in known:\n",
    "            \n",
    "            known[arr[i]] =  known[arr[i]]+1\n",
    "        \n",
    "        else:\n",
    "            \n",
    "            known[arr[i]] = 1\n",
    "            \n",
    "    \n",
    "    for j in range(0, 10):\n",
    "        \n",
    "        try: \n",
    "        \n",
    "            if known[j] == 1:\n",
    "            \n",
    "                return j\n",
    "        \n",
    "        except KeyError:\n",
    "            \n",
    "            continue\n"
   ]
  },
  {
   "cell_type": "code",
   "execution_count": 13,
   "metadata": {},
   "outputs": [
    {
     "name": "stdout",
     "output_type": "stream",
     "text": [
      "3\n",
      "3\n",
      "3\n",
      "6.8 µs ± 2.14 µs per loop (mean ± std. dev. of 7 runs, 100000 loops each)\n"
     ]
    }
   ],
   "source": [
    "print (unique([1,1,2,2,3]))\n",
    "print (unique([1,6,1,7,2,2,6,3,5,5,7,9,9,9,9,8,8,10,10,11,11,12,12,13,13]))\n",
    "print (unique([1,1,1,2,2,2,3]))\n",
    "\n",
    "%timeit unique([1,6,1,7,2,2,6,3,5,5,7,9,9,9,9,8,8,10,10,11,11,12,12,13,13])"
   ]
  },
  {
   "cell_type": "markdown",
   "metadata": {},
   "source": [
    "# Instructor-wrong\n",
    "# if there is a duplicate value appearing an odd number of times, it fails\n",
    "# 因為instruction沒有說明duplicate一定是even出現 => 其實也不合理，duplicate就是重複，不論even or odd => 此solution不能用"
   ]
  },
  {
   "cell_type": "code",
   "execution_count": 8,
   "metadata": {},
   "outputs": [],
   "source": [
    "def solution(id_list):\n",
    "    \n",
    "    # Initiate unique Id\n",
    "    unique_id = 0\n",
    "    \n",
    "    # XOR fo revery id in id list\n",
    "    for i in id_list:\n",
    "        \n",
    "        # XOR operation\n",
    "        unique_id = unique_id^i\n",
    "    \n",
    "    return unique_id\n"
   ]
  },
  {
   "cell_type": "code",
   "execution_count": 11,
   "metadata": {},
   "outputs": [
    {
     "name": "stdout",
     "output_type": "stream",
     "text": [
      "3\n",
      "3\n",
      "0\n",
      "2.36 µs ± 689 ns per loop (mean ± std. dev. of 7 runs, 1000000 loops each)\n"
     ]
    }
   ],
   "source": [
    "print (solution([1,1,2,2,3]))\n",
    "print (solution([1,6,1,7,2,2,6,3,5,5,7]))\n",
    "print (solution([1,1,1,2,2,2,3]))\n",
    "\n",
    "%timeit solution([1,6,1,7,2,2,6,3,5,5,7,9,9,9,9,8,8,10,10,11,11,12,12,13,13])"
   ]
  }
 ],
 "metadata": {
  "kernelspec": {
   "display_name": "Python 3",
   "language": "python",
   "name": "python3"
  },
  "language_info": {
   "codemirror_mode": {
    "name": "ipython",
    "version": 3
   },
   "file_extension": ".py",
   "mimetype": "text/x-python",
   "name": "python",
   "nbconvert_exporter": "python",
   "pygments_lexer": "ipython3",
   "version": "3.7.3"
  }
 },
 "nbformat": 4,
 "nbformat_minor": 2
}
