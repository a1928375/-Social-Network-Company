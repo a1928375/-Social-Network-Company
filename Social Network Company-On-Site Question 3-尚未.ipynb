{
 "cells": [
  {
   "cell_type": "markdown",
   "metadata": {},
   "source": [
    "# Mine-沒有理解題目"
   ]
  },
  {
   "cell_type": "code",
   "execution_count": 1,
   "metadata": {},
   "outputs": [],
   "source": [
    "def sortedwithMax(arr, max):\n",
    "    \n",
    "    arr = arr[:arr.index(max)] + arr[arr.index(max)+1:]\n",
    "    \n",
    "    merge_sort(arr)\n",
    "    \n",
    "    return arr + [max]\n",
    "\n",
    "def merge_sort(arr):\n",
    "    \n",
    "    if len(arr) == 1:\n",
    "        \n",
    "        return arr\n",
    "    \n",
    "    else:\n",
    "        \n",
    "        mid = len(arr) // 2\n",
    "        \n",
    "        left = merge_sort(arr[:mid])\n",
    "        right = merge_sort(arr[mid:])\n",
    "        \n",
    "        i = 0\n",
    "        j = 0\n",
    "        k = 0\n",
    "        \n",
    "    while i < len(left) and j < len(right):\n",
    "        \n",
    "        if left[i] <= right[j]:\n",
    "        \n",
    "            arr[k] = left[i]\n",
    "        \n",
    "            i = i+1\n",
    "        \n",
    "        elif right[j] < left[i]:\n",
    "        \n",
    "            arr[k] = right[j]\n",
    "        \n",
    "            j = j+1\n",
    "        \n",
    "        k = k+1\n",
    "    \n",
    "    while i < len(left):\n",
    "        \n",
    "        arr[k] = left[i]\n",
    "        \n",
    "        i = i+1\n",
    "        \n",
    "        k = k+1\n",
    "        \n",
    "    while j < len(right):\n",
    "        \n",
    "        arr[k] = right[j]\n",
    "        \n",
    "        j = j+1\n",
    "        \n",
    "        k = k+1\n",
    "        \n",
    "    return arr\n"
   ]
  },
  {
   "cell_type": "code",
   "execution_count": 2,
   "metadata": {},
   "outputs": [
    {
     "name": "stdout",
     "output_type": "stream",
     "text": [
      "[2, 3, 5, 6, 7]\n"
     ]
    }
   ],
   "source": [
    "print (sortedwithMax([2,7,3,6,5], 7))"
   ]
  },
  {
   "cell_type": "markdown",
   "metadata": {},
   "source": [
    "# Instructor\n",
    "# Counting sort"
   ]
  },
  {
   "cell_type": "code",
   "execution_count": 3,
   "metadata": {},
   "outputs": [],
   "source": [
    "def solution(unsorted_prices,max_price):\n",
    "    \n",
    "    # list of 0s at indices 0 to max_price\n",
    "    prices_to_counts = [0]* (max_price+1)   # 直接create出max大小的list\n",
    "    \n",
    "    # populate prices\n",
    "    for price in unsorted_prices:         \n",
    "        \n",
    "        prices_to_counts[price] = prices_to_counts[price]+1    #讓prices_to_counts所對應的price有對應的count值\n",
    "        \n",
    "    # populate final sorted prices\n",
    "    sorted_prices = []                                         # result list\n",
    "    \n",
    "    # For each price in prices_to_counts\n",
    "    for price,count in enumerate(prices_to_counts):            # price是index  &  count代表有幾個此price\n",
    "        \n",
    "        # for the number of times the element occurs\n",
    "        for time in range(count):                              #讓result依序append price值 => sorted\n",
    "            \n",
    "            # add it to the sorted price list\n",
    "            sorted_prices.append(price)\n",
    "            \n",
    "    return sorted_prices"
   ]
  },
  {
   "cell_type": "code",
   "execution_count": 4,
   "metadata": {},
   "outputs": [
    {
     "data": {
      "text/plain": [
       "[2, 3, 4, 6, 7, 8, 9]"
      ]
     },
     "execution_count": 4,
     "metadata": {},
     "output_type": "execute_result"
    }
   ],
   "source": [
    "solution([4,6,2,7,3,8,9],9)"
   ]
  }
 ],
 "metadata": {
  "kernelspec": {
   "display_name": "Python 3",
   "language": "python",
   "name": "python3"
  },
  "language_info": {
   "codemirror_mode": {
    "name": "ipython",
    "version": 3
   },
   "file_extension": ".py",
   "mimetype": "text/x-python",
   "name": "python",
   "nbconvert_exporter": "python",
   "pygments_lexer": "ipython3",
   "version": "3.7.3"
  }
 },
 "nbformat": 4,
 "nbformat_minor": 2
}
