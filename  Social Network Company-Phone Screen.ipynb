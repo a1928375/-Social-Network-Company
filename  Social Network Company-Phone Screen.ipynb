{
 "cells": [
  {
   "cell_type": "markdown",
   "metadata": {},
   "source": [
    "# Mine"
   ]
  },
  {
   "cell_type": "code",
   "execution_count": 1,
   "metadata": {},
   "outputs": [],
   "source": [
    "def duplicate_remove(str):\n",
    "\n",
    "    known = {}\n",
    "    \n",
    "    i = 0\n",
    "\n",
    "    while i < len(str):\n",
    "\n",
    "        if str[i] in known:                 #刪字時i不+1 => 因為刪字時，str會減短 => 所以i不能增加，否則會超出str\n",
    "\n",
    "            str = str[:i] + str[i+1:]\n",
    "\n",
    "        else:\n",
    "        \n",
    "            known[str[i]] = i\n",
    "\n",
    "            i = i+1\n",
    "\n",
    "    return str\n"
   ]
  },
  {
   "cell_type": "code",
   "execution_count": 4,
   "metadata": {},
   "outputs": [
    {
     "name": "stdout",
     "output_type": "stream",
     "text": [
      "tre avsl\n",
      "53 µs ± 20.5 µs per loop (mean ± std. dev. of 7 runs, 10000 loops each)\n"
     ]
    }
   ],
   "source": [
    "print (duplicate_remove(\"tree traversal\"))\n",
    "\n",
    "%timeit duplicate_remove(\"tree traversaltree traversaltree traversaltree traversaltree traversaltree traversaltree traversaltree traversaltree traversal\")"
   ]
  },
  {
   "cell_type": "markdown",
   "metadata": {},
   "source": [
    "# Instructor\n",
    "# set() => efficient"
   ]
  },
  {
   "cell_type": "code",
   "execution_count": 16,
   "metadata": {},
   "outputs": [],
   "source": [
    "def removeDuplicates(string): \n",
    "    \n",
    "    result=[] \n",
    "    seen=set() \n",
    "    \n",
    "    for char in string: \n",
    "        \n",
    "        if char not in seen: \n",
    "            \n",
    "            seen.add(char) \n",
    "            result.append(char)\n",
    "            \n",
    "    return ''.join(result) "
   ]
  },
  {
   "cell_type": "code",
   "execution_count": 17,
   "metadata": {},
   "outputs": [
    {
     "name": "stdout",
     "output_type": "stream",
     "text": [
      "tre avsl\n",
      "19.6 µs ± 4.96 µs per loop (mean ± std. dev. of 7 runs, 100000 loops each)\n"
     ]
    }
   ],
   "source": [
    "print (removeDuplicates(\"tree traversal\"))\n",
    "\n",
    "%timeit removeDuplicates(\"tree traversaltree traversaltree traversaltree traversaltree traversaltree traversaltree traversaltree traversaltree traversaltree traversaltree traversaltree traversaltree traversaltree traversaltree traversaltree traversaltree traversaltree traversal bcdfghijkmnopqstuwxyz\")"
   ]
  },
  {
   "cell_type": "markdown",
   "metadata": {},
   "source": [
    "# using string => less sufficient than set() for searching\n",
    "# 整體比較快"
   ]
  },
  {
   "cell_type": "code",
   "execution_count": 18,
   "metadata": {},
   "outputs": [],
   "source": [
    "def remove(str):\n",
    "    \n",
    "    result = \"\"\n",
    "    \n",
    "    for i in str:\n",
    "        \n",
    "        if i not in result:\n",
    "            \n",
    "            result = result + i\n",
    "    \n",
    "    return result\n",
    "    "
   ]
  },
  {
   "cell_type": "code",
   "execution_count": 19,
   "metadata": {
    "scrolled": true
   },
   "outputs": [
    {
     "name": "stdout",
     "output_type": "stream",
     "text": [
      "tre avsl\n",
      "19.6 µs ± 533 ns per loop (mean ± std. dev. of 7 runs, 10000 loops each)\n"
     ]
    }
   ],
   "source": [
    "print(remove(\"tree traversal\"))\n",
    "\n",
    "%timeit remove(\"tree traversaltree traversaltree traversaltree traversaltree traversaltree traversaltree traversaltree traversaltree traversal tree traversaltree traversaltree traversaltree traversaltree traversaltree traversaltree traversaltree traversaltree traversal bcdfghijkmnopqstuwxyz\")"
   ]
  }
 ],
 "metadata": {
  "kernelspec": {
   "display_name": "Python 3",
   "language": "python",
   "name": "python3"
  },
  "language_info": {
   "codemirror_mode": {
    "name": "ipython",
    "version": 3
   },
   "file_extension": ".py",
   "mimetype": "text/x-python",
   "name": "python",
   "nbconvert_exporter": "python",
   "pygments_lexer": "ipython3",
   "version": "3.7.3"
  }
 },
 "nbformat": 4,
 "nbformat_minor": 2
}
