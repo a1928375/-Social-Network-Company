{
 "cells": [
  {
   "cell_type": "markdown",
   "metadata": {},
   "source": [
    "# Mine"
   ]
  },
  {
   "cell_type": "code",
   "execution_count": null,
   "metadata": {},
   "outputs": [],
   "source": [
    "def possible_sum(arr, target):\n",
    "\n",
    "    for i in range(len(arr)):\n",
    "\n",
    "        if target - arr[i] in arr and target - arr[i] != arr[i]:\n",
    "            \n",
    "            return True\n",
    "    \n",
    "    return False\n"
   ]
  },
  {
   "cell_type": "code",
   "execution_count": 14,
   "metadata": {},
   "outputs": [
    {
     "name": "stdout",
     "output_type": "stream",
     "text": [
      "True\n",
      "False\n",
      "True\n",
      "True\n",
      "False\n",
      "835 ns ± 265 ns per loop (mean ± std. dev. of 7 runs, 1000000 loops each)\n",
      "31.5 µs ± 674 ns per loop (mean ± std. dev. of 7 runs, 10000 loops each)\n"
     ]
    }
   ],
   "source": [
    "print (possible_sum([1,2,3], 5))\n",
    "print (possible_sum([1,6,2], 5))\n",
    "print (possible_sum([-11, -1, 0, 100, 3, 2], 5))\n",
    "print (possible_sum([1,3,5,1,7],4))\n",
    "print (possible_sum([1,3,5,1,7],14))\n",
    "\n",
    "%timeit possible_sum([1,3,5,1,7],8)\n",
    "%timeit possible_sum([1,3,5,1,7,1,3,5,1,7,1,3,5,1,7,1,3,5,1,7,1,3,5,1,7,1,3,5,1,7,1,3,5,1,7],23)"
   ]
  },
  {
   "cell_type": "markdown",
   "metadata": {},
   "source": [
    "# Instructor\n",
    "# set() => efficient"
   ]
  },
  {
   "cell_type": "code",
   "execution_count": 11,
   "metadata": {},
   "outputs": [],
   "source": [
    "def solution(lst,target):\n",
    "    \n",
    "    # Create set to keep track of duplicates\n",
    "    seen = set()\n",
    "    \n",
    "    # We want to find if there is a num2 that sums with num to reach the target    \n",
    "    for num in lst:\n",
    "       \n",
    "        if target - num in seen:\n",
    "            return True\n",
    "        \n",
    "        seen.add(num)\n",
    "        \n",
    "    # If we never find a pair match which creates the sum\n",
    "    return False"
   ]
  },
  {
   "cell_type": "code",
   "execution_count": 15,
   "metadata": {},
   "outputs": [
    {
     "name": "stdout",
     "output_type": "stream",
     "text": [
      "True\n",
      "False\n",
      "True\n",
      "True\n",
      "False\n",
      "728 ns ± 236 ns per loop (mean ± std. dev. of 7 runs, 1000000 loops each)\n",
      "4.52 µs ± 1.65 µs per loop (mean ± std. dev. of 7 runs, 100000 loops each)\n"
     ]
    }
   ],
   "source": [
    "print (solution([1,2,3], 5))\n",
    "print (solution([1,6,2], 5))\n",
    "print (solution([-11, -1, 0, 100, 3, 2], 5))\n",
    "print (solution([1,3,5,1,7],4))\n",
    "print (solution([1,3,5,1,7],14))\n",
    "\n",
    "%timeit solution([1,3,5,1,7],8)\n",
    "%timeit solution([1,3,5,1,7,1,3,5,1,7,1,3,5,1,7,1,3,5,1,7,1,3,5,1,7,1,3,5,1,7,1,3,5,1,7],23)"
   ]
  }
 ],
 "metadata": {
  "kernelspec": {
   "display_name": "Python 3",
   "language": "python",
   "name": "python3"
  },
  "language_info": {
   "codemirror_mode": {
    "name": "ipython",
    "version": 3
   },
   "file_extension": ".py",
   "mimetype": "text/x-python",
   "name": "python",
   "nbconvert_exporter": "python",
   "pygments_lexer": "ipython3",
   "version": "3.7.3"
  }
 },
 "nbformat": 4,
 "nbformat_minor": 2
}
